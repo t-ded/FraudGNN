{
 "cells": [
  {
   "cell_type": "code",
   "execution_count": 1,
   "id": "3b541563-67ab-4bfb-b9e1-9f127961752e",
   "metadata": {},
   "outputs": [],
   "source": [
    "import os\n",
    "import json"
   ]
  },
  {
   "cell_type": "code",
   "execution_count": 2,
   "id": "0141cf97-8587-4206-958a-50e5b145a337",
   "metadata": {},
   "outputs": [],
   "source": [
    "import numpy as np"
   ]
  },
  {
   "cell_type": "code",
   "execution_count": 3,
   "id": "4153f4da-b713-4765-9ca4-53940e802b68",
   "metadata": {},
   "outputs": [],
   "source": [
    "import matplotlib.pyplot as plt\n",
    "import seaborn as sns"
   ]
  },
  {
   "cell_type": "code",
   "execution_count": 4,
   "id": "bb274b5a-c39c-4de6-9ec1-6398a83e83ac",
   "metadata": {},
   "outputs": [],
   "source": [
    "import polars as pl\n",
    "from polars._typing import IntoExpr"
   ]
  },
  {
   "cell_type": "code",
   "execution_count": null,
   "id": "dfa34345-e2db-41fe-94fb-cfcd3e56e4d1",
   "metadata": {},
   "outputs": [],
   "source": [
    "pl.Config.set_tbl_rows(100)\n",
    "pl.Config.set_tbl_cols(100)"
   ]
  },
  {
   "cell_type": "code",
   "execution_count": 5,
   "id": "d1633301-35e0-47ac-b2e4-270fe648b4ef",
   "metadata": {},
   "outputs": [],
   "source": [
    "import torch"
   ]
  },
  {
   "cell_type": "code",
   "execution_count": 6,
   "id": "fabbd3ba-050c-43fa-9bbb-cb751351fe00",
   "metadata": {},
   "outputs": [],
   "source": [
    "os.environ['TORCH'] = torch.__version__\n",
    "os.environ['DGLBACKEND'] = \"pytorch\"\n",
    "device = torch.device(\"cpu\")"
   ]
  },
  {
   "cell_type": "code",
   "execution_count": 9,
   "id": "65d7b767-d340-47af-9683-20db9f24a346",
   "metadata": {},
   "outputs": [],
   "source": [
    "import dgl\n",
    "import dgl.graphbolt as gb"
   ]
  },
  {
   "cell_type": "code",
   "execution_count": null,
   "id": "04e1d172-ecf6-4768-a164-3143815e0e2a",
   "metadata": {},
   "outputs": [],
   "source": [
    "with open('../config/general_config.json') as f:\n",
    "    config = json.load(f)"
   ]
  },
  {
   "cell_type": "code",
   "execution_count": null,
   "id": "28f571c2-6d1a-4fe7-a480-e032a8962b9d",
   "metadata": {},
   "outputs": [],
   "source": [
    "raw_train_transactions = pl.scan_csv('../' + config['raw_data_folder'] + 'train/train_transaction.csv')\n",
    "raw_train_identities = pl.scan_csv('../' + config['raw_data_folder'] + 'train/train_identity.csv')"
   ]
  },
  {
   "cell_type": "markdown",
   "id": "b8e06635-3b16-4a98-a09c-80427345db57",
   "metadata": {},
   "source": [
    "<h1>Transactional Dataset</h1>"
   ]
  },
  {
   "cell_type": "code",
   "execution_count": null,
   "id": "aac8d9a7-9273-451e-a257-a61729f39609",
   "metadata": {},
   "outputs": [],
   "source": []
  }
 ],
 "metadata": {
  "kernelspec": {
   "display_name": "Python 3 (ipykernel)",
   "language": "python",
   "name": "python3"
  },
  "language_info": {
   "codemirror_mode": {
    "name": "ipython",
    "version": 3
   },
   "file_extension": ".py",
   "mimetype": "text/x-python",
   "name": "python",
   "nbconvert_exporter": "python",
   "pygments_lexer": "ipython3",
   "version": "3.12.3"
  }
 },
 "nbformat": 4,
 "nbformat_minor": 5
}
